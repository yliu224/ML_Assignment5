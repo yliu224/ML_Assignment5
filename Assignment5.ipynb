{
 "cells": [
  {
   "cell_type": "code",
   "execution_count": 1,
   "metadata": {},
   "outputs": [],
   "source": [
    "import pandas as pd\n",
    "import numpy as np\n",
    "from randomforest import randomforest\n",
    "# from decision_tree import decision_tree\n",
    "import random\n",
    "from sklearn.metrics import accuracy_score"
   ]
  },
  {
   "cell_type": "code",
   "execution_count": 2,
   "metadata": {},
   "outputs": [],
   "source": [
    "def load_training_data(filename,cnames):\n",
    "    df = pd.read_csv(filename,header=None,names=cnames)    \n",
    "    df= df[df.workclass != ' ?']\n",
    "    df= df[df.occupation != ' ?']\n",
    "    \n",
    "    age = df.iloc[:,0]\n",
    "    age_cut = pd.cut(age, 8)\n",
    "    df['age'] = age_cut.astype(str)\n",
    "    fnlwgt = df.iloc[:,2]\n",
    "    fnlwgt_cut = pd.cut(fnlwgt,8)\n",
    "    df['fnlwgt'] = fnlwgt_cut.astype(str)\n",
    "        \n",
    "    x = df.iloc[:,:-1]\n",
    "    y = df.iloc[:,-1]\n",
    "\n",
    "    return x.values.tolist(),y.values.tolist(), age_cut,fnlwgt_cut"
   ]
  },
  {
   "cell_type": "code",
   "execution_count": 3,
   "metadata": {},
   "outputs": [],
   "source": [
    "def load_test_data(filename, age_cut, fnlwgt_cut,cnames):\n",
    "    df = pd.read_csv(filename,header=None,names=cnames) \n",
    "    df= df.iloc[1:,:]\n",
    "    df= df[df.workclass != ' ?']\n",
    "    df= df[df.occupation != ' ?']\n",
    "    for index, row in df.iterrows():   \n",
    "        for i in age_cut.cat.categories:\n",
    "            if i.left < float(row['age']) <= i.right:\n",
    "                df.set_value(index,'age',i)\n",
    "                break\n",
    "        for j in fnlwgt_cut.cat.categories:\n",
    "            if j.left < float(row['fnlwgt']) <= j.right:\n",
    "                df.set_value(index,'fnlwgt',j)\n",
    "                break\n",
    "    df['age'] = df.age.astype(str)\n",
    "    df['fnlwgt'] = df.fnlwgt.astype(str)\n",
    "    df['result'] =df['result'].map({' <=50K.':' <=50K', ' >50K.':' >50K'})\n",
    "\n",
    "    x = df.iloc[:,:-1]\n",
    "    y = df.iloc[:,-1]\n",
    "    \n",
    "    return x.values.tolist() , y.values.tolist()"
   ]
  },
  {
   "cell_type": "code",
   "execution_count": 4,
   "metadata": {
    "scrolled": false
   },
   "outputs": [
    {
     "name": "stderr",
     "output_type": "stream",
     "text": [
      "/Library/Frameworks/Python.framework/Versions/3.6/lib/python3.6/site-packages/ipykernel_launcher.py:9: FutureWarning: set_value is deprecated and will be removed in a future release. Please use .at[] or .iat[] accessors instead\n",
      "  if __name__ == '__main__':\n",
      "/Library/Frameworks/Python.framework/Versions/3.6/lib/python3.6/site-packages/ipykernel_launcher.py:13: FutureWarning: set_value is deprecated and will be removed in a future release. Please use .at[] or .iat[] accessors instead\n",
      "  del sys.path[0]\n"
     ]
    }
   ],
   "source": [
    "cnames = ['age','workclass','fnlwgt','education','education_num',\n",
    "         'marital_status','occupation','relationship','race','sex',\n",
    "         'capital_gain','capital_loss','hours_per_week','native_country','result']\n",
    "X, Y,age_cut,fnlwgt_cut = load_training_data('~/Downloads/adult.csv',cnames)\n",
    "Xtest, Ytest = load_test_data('~/Downloads/adult_test.csv', age_cut,fnlwgt_cut,cnames)"
   ]
  },
  {
   "cell_type": "code",
   "execution_count": 5,
   "metadata": {
    "scrolled": true
   },
   "outputs": [],
   "source": [
    "rf = randomforest(tree_size=20)"
   ]
  },
  {
   "cell_type": "code",
   "execution_count": 6,
   "metadata": {},
   "outputs": [
    {
     "name": "stdout",
     "output_type": "stream",
     "text": [
      "Fitting 0\n",
      "Fitting 1\n",
      "Fitting 2\n",
      "Fitting 3\n",
      "Fitting 4\n",
      "Fitting 5\n",
      "Fitting 6\n",
      "Fitting 7\n",
      "Fitting 8\n",
      "Fitting 9\n",
      "Fitting 10\n",
      "Fitting 11\n",
      "Fitting 12\n",
      "Fitting 13\n",
      "Fitting 14\n",
      "Fitting 15\n",
      "Fitting 16\n",
      "Fitting 17\n",
      "Fitting 18\n",
      "Fitting 19\n"
     ]
    }
   ],
   "source": [
    "rf.fit(X,Y)"
   ]
  },
  {
   "cell_type": "code",
   "execution_count": 7,
   "metadata": {
    "scrolled": true
   },
   "outputs": [],
   "source": [
    "predicts = rf.predict(Xtest)"
   ]
  },
  {
   "cell_type": "code",
   "execution_count": 8,
   "metadata": {
    "scrolled": false
   },
   "outputs": [
    {
     "data": {
      "text/plain": [
       "0.7958077576074181"
      ]
     },
     "execution_count": 8,
     "metadata": {},
     "output_type": "execute_result"
    }
   ],
   "source": [
    "accuracy_score(Ytest,predicts)"
   ]
  },
  {
   "cell_type": "code",
   "execution_count": null,
   "metadata": {},
   "outputs": [],
   "source": []
  }
 ],
 "metadata": {
  "kernelspec": {
   "display_name": "Python 3",
   "language": "python",
   "name": "python3"
  },
  "language_info": {
   "codemirror_mode": {
    "name": "ipython",
    "version": 3
   },
   "file_extension": ".py",
   "mimetype": "text/x-python",
   "name": "python",
   "nbconvert_exporter": "python",
   "pygments_lexer": "ipython3",
   "version": "3.6.4"
  }
 },
 "nbformat": 4,
 "nbformat_minor": 2
}
